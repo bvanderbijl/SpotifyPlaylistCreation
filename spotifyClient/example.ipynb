{
 "cells": [
  {
   "cell_type": "code",
   "execution_count": 1,
   "metadata": {},
   "outputs": [
    {
     "name": "stderr",
     "output_type": "stream",
     "text": [
      "/Users/basvanderbijl/Library/Python/3.9/lib/python/site-packages/urllib3/__init__.py:34: NotOpenSSLWarning: urllib3 v2.0 only supports OpenSSL 1.1.1+, currently the 'ssl' module is compiled with 'LibreSSL 2.8.3'. See: https://github.com/urllib3/urllib3/issues/3020\n",
      "  warnings.warn(\n"
     ]
    }
   ],
   "source": [
    "import os\n",
    "from dotenv import load_dotenv\n",
    "\n",
    "from spotifyclient import *"
   ]
  },
  {
   "cell_type": "code",
   "execution_count": 2,
   "metadata": {},
   "outputs": [],
   "source": [
    "load_dotenv()\n",
    "    \n",
    "client_id = os.getenv(\"CLIENT_ID\")\n",
    "client_secret = os.getenv(\"CLIENT_SECRET\")\n",
    "\n",
    "redirect_uri = os.getenv(\"REDIRECT_URI\")"
   ]
  },
  {
   "cell_type": "code",
   "execution_count": 16,
   "metadata": {},
   "outputs": [],
   "source": [
    "client =  SpotifyClient(client_id, client_secret, redirect_uri)"
   ]
  },
  {
   "cell_type": "code",
   "execution_count": 17,
   "metadata": {},
   "outputs": [
    {
     "ename": "HTTPError",
     "evalue": "400 Client Error: Bad Request for url: https://accounts.spotify.com/api/token",
     "output_type": "error",
     "traceback": [
      "\u001b[0;31m---------------------------------------------------------------------------\u001b[0m",
      "\u001b[0;31mHTTPError\u001b[0m                                 Traceback (most recent call last)",
      "\u001b[1;32m/Users/basvanderbijl/Documents/Projects/SpotifyPlaylistCreation/example.ipynb Cell 4\u001b[0m line \u001b[0;36m1\n\u001b[0;32m----> <a href='vscode-notebook-cell:/Users/basvanderbijl/Documents/Projects/SpotifyPlaylistCreation/example.ipynb#W3sZmlsZQ%3D%3D?line=0'>1</a>\u001b[0m client\u001b[39m.\u001b[39;49mget_user_info()\n",
      "File \u001b[0;32m~/Documents/Projects/SpotifyPlaylistCreation/spotifyclient.py:121\u001b[0m, in \u001b[0;36mSpotifyClient.get_user_info\u001b[0;34m(self)\u001b[0m\n\u001b[1;32m    120\u001b[0m \u001b[39mdef\u001b[39;00m \u001b[39mget_user_info\u001b[39m(\u001b[39mself\u001b[39m):\n\u001b[0;32m--> 121\u001b[0m     \u001b[39mself\u001b[39;49m\u001b[39m.\u001b[39;49muser_authorization()\n\u001b[1;32m    123\u001b[0m     url \u001b[39m=\u001b[39m \u001b[39m\"\u001b[39m\u001b[39mhttps://api.spotify.com/v1/me\u001b[39m\u001b[39m\"\u001b[39m\n\u001b[1;32m    124\u001b[0m     headers \u001b[39m=\u001b[39m {\n\u001b[1;32m    125\u001b[0m         \u001b[39m'\u001b[39m\u001b[39mAuthorization\u001b[39m\u001b[39m'\u001b[39m: \u001b[39mf\u001b[39m\u001b[39m'\u001b[39m\u001b[39mBearer \u001b[39m\u001b[39m{\u001b[39;00m\u001b[39mself\u001b[39m\u001b[39m.\u001b[39m_access_token\u001b[39m}\u001b[39;00m\u001b[39m'\u001b[39m\n\u001b[1;32m    126\u001b[0m     }\n",
      "File \u001b[0;32m~/Documents/Projects/SpotifyPlaylistCreation/spotifyclient.py:115\u001b[0m, in \u001b[0;36mSpotifyClient.user_authorization\u001b[0;34m(self)\u001b[0m\n\u001b[1;32m    112\u001b[0m     \u001b[39mself\u001b[39m\u001b[39m.\u001b[39mauthorize()\n\u001b[1;32m    114\u001b[0m \u001b[39mif\u001b[39;00m \u001b[39mnot\u001b[39;00m \u001b[39mhasattr\u001b[39m(\u001b[39mself\u001b[39m, \u001b[39m\"\u001b[39m\u001b[39m_access_token\u001b[39m\u001b[39m\"\u001b[39m):\n\u001b[0;32m--> 115\u001b[0m     \u001b[39mself\u001b[39;49m\u001b[39m.\u001b[39;49mget_access_token()\n\u001b[1;32m    117\u001b[0m \u001b[39mif\u001b[39;00m datetime\u001b[39m.\u001b[39mnow() \u001b[39m>\u001b[39m \u001b[39mself\u001b[39m\u001b[39m.\u001b[39m_expire_time:\n\u001b[1;32m    118\u001b[0m     \u001b[39mself\u001b[39m\u001b[39m.\u001b[39mrefresh_token()\n",
      "File \u001b[0;32m~/Documents/Projects/SpotifyPlaylistCreation/spotifyclient.py:76\u001b[0m, in \u001b[0;36mSpotifyClient.get_access_token\u001b[0;34m(self)\u001b[0m\n\u001b[1;32m     71\u001b[0m headers \u001b[39m=\u001b[39m {\n\u001b[1;32m     72\u001b[0m \u001b[39m'\u001b[39m\u001b[39mContent-Type\u001b[39m\u001b[39m'\u001b[39m: \u001b[39m'\u001b[39m\u001b[39mapplication/x-www-form-urlencoded\u001b[39m\u001b[39m'\u001b[39m\n\u001b[1;32m     73\u001b[0m }\n\u001b[1;32m     75\u001b[0m response \u001b[39m=\u001b[39m requests\u001b[39m.\u001b[39mrequest(\u001b[39m\"\u001b[39m\u001b[39mPOST\u001b[39m\u001b[39m\"\u001b[39m, url, headers\u001b[39m=\u001b[39mheaders, data\u001b[39m=\u001b[39mpayload)\n\u001b[0;32m---> 76\u001b[0m response\u001b[39m.\u001b[39;49mraise_for_status()\n\u001b[1;32m     78\u001b[0m body \u001b[39m=\u001b[39m response\u001b[39m.\u001b[39mjson()\n\u001b[1;32m     80\u001b[0m \u001b[39mself\u001b[39m\u001b[39m.\u001b[39m_access_token \u001b[39m=\u001b[39m body[\u001b[39m'\u001b[39m\u001b[39maccess_token\u001b[39m\u001b[39m'\u001b[39m]\n",
      "File \u001b[0;32m~/Library/Python/3.9/lib/python/site-packages/requests/models.py:1021\u001b[0m, in \u001b[0;36mResponse.raise_for_status\u001b[0;34m(self)\u001b[0m\n\u001b[1;32m   1016\u001b[0m     http_error_msg \u001b[39m=\u001b[39m (\n\u001b[1;32m   1017\u001b[0m         \u001b[39mf\u001b[39m\u001b[39m\"\u001b[39m\u001b[39m{\u001b[39;00m\u001b[39mself\u001b[39m\u001b[39m.\u001b[39mstatus_code\u001b[39m}\u001b[39;00m\u001b[39m Server Error: \u001b[39m\u001b[39m{\u001b[39;00mreason\u001b[39m}\u001b[39;00m\u001b[39m for url: \u001b[39m\u001b[39m{\u001b[39;00m\u001b[39mself\u001b[39m\u001b[39m.\u001b[39murl\u001b[39m}\u001b[39;00m\u001b[39m\"\u001b[39m\n\u001b[1;32m   1018\u001b[0m     )\n\u001b[1;32m   1020\u001b[0m \u001b[39mif\u001b[39;00m http_error_msg:\n\u001b[0;32m-> 1021\u001b[0m     \u001b[39mraise\u001b[39;00m HTTPError(http_error_msg, response\u001b[39m=\u001b[39m\u001b[39mself\u001b[39m)\n",
      "\u001b[0;31mHTTPError\u001b[0m: 400 Client Error: Bad Request for url: https://accounts.spotify.com/api/token"
     ]
    }
   ],
   "source": [
    "client.get_user_info()"
   ]
  },
  {
   "cell_type": "code",
   "execution_count": 6,
   "metadata": {},
   "outputs": [
    {
     "name": "stdout",
     "output_type": "stream",
     "text": [
      "Altijd Op Je Wacht by MEAU\n",
      "Lovin On Me by Jack Harlow\n",
      "Oh My by Fireboy DML\n",
      "40 Days by Tamera\n",
      "Summertime Sadness by The Him\n"
     ]
    }
   ],
   "source": [
    "playlist = client.get_last_played_tracks(limit=5)\n",
    "for number in playlist:\n",
    "    print(number)"
   ]
  },
  {
   "cell_type": "code",
   "execution_count": 7,
   "metadata": {},
   "outputs": [
    {
     "name": "stdout",
     "output_type": "stream",
     "text": [
      "Harder Dan ik Hebben Kan by Duncan Laurence\n",
      "Better Days (feat. KOOLKID) - Mix Cut by The Him\n",
      "YEA YEA! by Alana Maria\n",
      "ONCE MAY COMES by Jack Harlow\n",
      "RTID (Rich Till I Die) by Kizz Daniel\n",
      "COMING THRU by Jamilah Barry\n",
      "Satisfied by Scribz Riley\n",
      "Many Man - A COLORS SHOW by Victony\n",
      "Drake and Drive by Ambré\n",
      "Vibration by Fireboy DML\n",
      "LONDON by BIA\n",
      "Chicago Freestyle (feat. Giveon) by Drake\n",
      "Baddest Boy - Remix by Skiibii\n",
      "Verloren by Tabitha\n",
      "X's by CMC$\n",
      "Hold The Line (feat. A R I Z O N A) by Avicii\n",
      "FLAMES by Gyakie\n",
      "Dat Ik Je Mis by Maaike Ouboter\n",
      "Lemon Pepper Freestyle (feat. Rick Ross) by Drake\n",
      "Er Was Eens Een Meid by Zoë Tauran\n",
      "Half Of Me by Bellah\n",
      "SUNDOWN by Jack Harlow\n",
      "Back To You by Mnelia\n",
      "HUMBLE. by Kendrick Lamar\n",
      "Not Alone - Extended Mix by The Him\n",
      "Dit Is Wat Je Weten Moet - uit Liefde Voor Muziek by Stef Bos\n",
      "Ransom by Lil Tecca\n",
      "Hoe Het Loopt by Paul Sinha\n",
      "Next To You (feat. Vedo) by Young Jonn\n",
      "Do You Still Feel? (feat. MAX) - Jeremy Estes Remix by Rain Man\n",
      "ego by Ragz Originale\n",
      "U Up? by Young Bombs\n",
      "Paradise by Nicky Romero\n",
      "All My Life (feat. J. Cole) by Lil Durk\n",
      "Passenger Princess by Shaé Universe\n",
      "Cardigan by Don Toliver\n",
      "Grijs by Jaap Reesema\n",
      "Sor Mi Mu by Gyakie\n",
      "Een Teken by Froukje\n",
      "New Hobby by Tamera\n",
      "Naive - The Him Remix by The Kooks\n",
      "Right In Front Of Me by Win and Woo\n",
      "Monster by Zoë Tauran\n",
      "Sail by Mopao Mumu\n",
      "Wondergirl by Moliy\n",
      "Wish You Back (feat. Kwesi) - The Him Radio Edit by Mako\n",
      "Open Your Heart by Onesimus\n",
      "Umbrella by Wande Coal\n",
      "I Love You - Chace Remix by Axwell /\\ Ingrosso\n",
      "Bella by Korede Bello\n"
     ]
    }
   ],
   "source": [
    "new_list = client.get_track_recommendations(playlist)\n",
    "\n",
    "for track in new_list:\n",
    "    print(track)"
   ]
  },
  {
   "cell_type": "code",
   "execution_count": 8,
   "metadata": {},
   "outputs": [
    {
     "data": {
      "text/plain": [
       "{'collaborative': False,\n",
       " 'description': None,\n",
       " 'external_urls': {'spotify': 'https://open.spotify.com/playlist/2htZCTEugGZEiwNFgBu9pH'},\n",
       " 'followers': {'href': None, 'total': 0},\n",
       " 'href': 'https://api.spotify.com/v1/playlists/2htZCTEugGZEiwNFgBu9pH',\n",
       " 'id': '2htZCTEugGZEiwNFgBu9pH',\n",
       " 'images': [],\n",
       " 'name': 'test_lijst',\n",
       " 'owner': {'display_name': 'Bas van der Bijl',\n",
       "  'external_urls': {'spotify': 'https://open.spotify.com/user/1127084085'},\n",
       "  'href': 'https://api.spotify.com/v1/users/1127084085',\n",
       "  'id': '1127084085',\n",
       "  'type': 'user',\n",
       "  'uri': 'spotify:user:1127084085'},\n",
       " 'primary_color': None,\n",
       " 'public': False,\n",
       " 'snapshot_id': 'MSwwMzc4ZjA5MDQ5ZTIxN2Y3NTg1MmQ4NTZhMjM4YWU0MGYyMzU0MjQ2',\n",
       " 'tracks': {'href': 'https://api.spotify.com/v1/playlists/2htZCTEugGZEiwNFgBu9pH/tracks',\n",
       "  'items': [],\n",
       "  'limit': 100,\n",
       "  'next': None,\n",
       "  'offset': 0,\n",
       "  'previous': None,\n",
       "  'total': 0},\n",
       " 'type': 'playlist',\n",
       " 'uri': 'spotify:playlist:2htZCTEugGZEiwNFgBu9pH'}"
      ]
     },
     "execution_count": 8,
     "metadata": {},
     "output_type": "execute_result"
    }
   ],
   "source": [
    "client.create_playlist(\"test_lijst\")"
   ]
  },
  {
   "cell_type": "code",
   "execution_count": null,
   "metadata": {},
   "outputs": [],
   "source": []
  }
 ],
 "metadata": {
  "kernelspec": {
   "display_name": "Python 3",
   "language": "python",
   "name": "python3"
  },
  "language_info": {
   "codemirror_mode": {
    "name": "ipython",
    "version": 3
   },
   "file_extension": ".py",
   "mimetype": "text/x-python",
   "name": "python",
   "nbconvert_exporter": "python",
   "pygments_lexer": "ipython3",
   "version": "3.9.6"
  }
 },
 "nbformat": 4,
 "nbformat_minor": 2
}
